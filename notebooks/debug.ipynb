{
 "cells": [
  {
   "cell_type": "code",
   "execution_count": 1,
   "id": "2eb6ae89-9058-4373-be6d-08ee89e580e5",
   "metadata": {},
   "outputs": [],
   "source": [
    "import os, re, sys, shutil\n",
    "import subprocess as sp\n",
    "import random, string\n",
    "import numpy as np\n",
    "from arnie.utils import *"
   ]
  },
  {
   "cell_type": "code",
   "execution_count": 2,
   "id": "f2ab924b-24fa-474a-95fd-73ef852749a6",
   "metadata": {},
   "outputs": [],
   "source": [
    "from arnie.mfe import mfe\n",
    "from arnie.free_energy import free_energy\n",
    "\n",
    "seq = 'CGCUGUCUGUACUUGUAUCAGUACACUGACGAGUCCCUAAAGGACGAAACAGCG'"
   ]
  },
  {
   "cell_type": "code",
   "execution_count": 3,
   "id": "894b1cd2-3b73-4996-89d8-1e16b8da99e7",
   "metadata": {},
   "outputs": [
    {
     "name": "stdout",
     "output_type": "stream",
     "text": [
      "Vienna RNAfold:\n",
      "((((((.((((((......)))))).......((((.....))))...))))))\n",
      "-15.92\n"
     ]
    }
   ],
   "source": [
    "print('Vienna RNAfold:')\n",
    "print(mfe(seq))\n",
    "print(free_energy(seq))"
   ]
  },
  {
   "cell_type": "code",
   "execution_count": 4,
   "id": "537b200d-91c4-48f1-8d3f-3076f0ff62f6",
   "metadata": {},
   "outputs": [
    {
     "name": "stdout",
     "output_type": "stream",
     "text": [
      "\n",
      "LinearFold-V:\n",
      "((((((.((((((......)))))).......((((.....))))...))))))\n"
     ]
    },
    {
     "ename": "ValueError",
     "evalue": "could not convert string to float: 'Coefficient:'",
     "output_type": "error",
     "traceback": [
      "\u001b[0;31m---------------------------------------------------------------------------\u001b[0m",
      "\u001b[0;31mValueError\u001b[0m                                Traceback (most recent call last)",
      "Input \u001b[0;32mIn [4]\u001b[0m, in \u001b[0;36m<cell line: 3>\u001b[0;34m()\u001b[0m\n\u001b[1;32m      1\u001b[0m \u001b[38;5;28mprint\u001b[39m(\u001b[38;5;124m'\u001b[39m\u001b[38;5;130;01m\\n\u001b[39;00m\u001b[38;5;124mLinearFold-V:\u001b[39m\u001b[38;5;124m'\u001b[39m)\n\u001b[1;32m      2\u001b[0m \u001b[38;5;28mprint\u001b[39m(mfe(seq, linear\u001b[38;5;241m=\u001b[39m\u001b[38;5;28;01mTrue\u001b[39;00m))\n\u001b[0;32m----> 3\u001b[0m \u001b[38;5;28mprint\u001b[39m(\u001b[43mfree_energy\u001b[49m\u001b[43m(\u001b[49m\u001b[43mseq\u001b[49m\u001b[43m,\u001b[49m\u001b[43m \u001b[49m\u001b[43mlinear\u001b[49m\u001b[38;5;241;43m=\u001b[39;49m\u001b[38;5;28;43;01mTrue\u001b[39;49;00m\u001b[43m)\u001b[49m)\n",
      "File \u001b[0;32m~/rna/arnie/free_energy.py:47\u001b[0m, in \u001b[0;36mfree_energy\u001b[0;34m(seq, constraint, package, T, coaxial, dna, beam_size, pseudo, dangles, reweight, ensemble, param_file, linear, DEBUG)\u001b[0m\n\u001b[1;32m     44\u001b[0m \u001b[38;5;28;01mif\u001b[39;00m \u001b[38;5;129;01mnot\u001b[39;00m ensemble:\n\u001b[1;32m     45\u001b[0m \tconstraint \u001b[38;5;241m=\u001b[39m constraint\u001b[38;5;241m.\u001b[39mreplace(\u001b[38;5;124m'\u001b[39m\u001b[38;5;124m.\u001b[39m\u001b[38;5;124m'\u001b[39m,\u001b[38;5;124m'\u001b[39m\u001b[38;5;124mx\u001b[39m\u001b[38;5;124m'\u001b[39m)\n\u001b[0;32m---> 47\u001b[0m \u001b[38;5;28;01mreturn\u001b[39;00m \u001b[43mpfunc\u001b[49m\u001b[43m(\u001b[49m\u001b[43mseq\u001b[49m\u001b[43m,\u001b[49m\u001b[43m \u001b[49m\u001b[43mpackage\u001b[49m\u001b[38;5;241;43m=\u001b[39;49m\u001b[43mpackage\u001b[49m\u001b[43m,\u001b[49m\u001b[43m \u001b[49m\u001b[43mT\u001b[49m\u001b[38;5;241;43m=\u001b[39;49m\u001b[43mT\u001b[49m\u001b[43m,\u001b[49m\u001b[43m \u001b[49m\u001b[43mdangles\u001b[49m\u001b[38;5;241;43m=\u001b[39;49m\u001b[43mdangles\u001b[49m\u001b[43m,\u001b[49m\u001b[43m \u001b[49m\u001b[43mcoaxial\u001b[49m\u001b[38;5;241;43m=\u001b[39;49m\u001b[43mcoaxial\u001b[49m\u001b[43m,\u001b[49m\u001b[43m \u001b[49m\u001b[43mpseudoknots\u001b[49m\u001b[38;5;241;43m=\u001b[39;49m\u001b[43mpseudo\u001b[49m\u001b[43m,\u001b[49m\u001b[43m \u001b[49m\u001b[43mdna\u001b[49m\u001b[38;5;241;43m=\u001b[39;49m\u001b[43mdna\u001b[49m\u001b[43m,\u001b[49m\u001b[43m \u001b[49m\u001b[43mbeam_size\u001b[49m\u001b[43m \u001b[49m\u001b[38;5;241;43m=\u001b[39;49m\u001b[43m \u001b[49m\u001b[43mbeam_size\u001b[49m\u001b[43m,\u001b[49m\n\u001b[1;32m     48\u001b[0m \u001b[43m \u001b[49m\u001b[43mconstraint\u001b[49m\u001b[38;5;241;43m=\u001b[39;49m\u001b[43mconstraint\u001b[49m\u001b[43m,\u001b[49m\u001b[43m \u001b[49m\u001b[43mreweight\u001b[49m\u001b[38;5;241;43m=\u001b[39;49m\u001b[43mreweight\u001b[49m\u001b[43m,\u001b[49m\u001b[43m \u001b[49m\u001b[43mparam_file\u001b[49m\u001b[38;5;241;43m=\u001b[39;49m\u001b[43mparam_file\u001b[49m\u001b[43m,\u001b[49m\u001b[43m \u001b[49m\u001b[43mreturn_free_energy\u001b[49m\u001b[38;5;241;43m=\u001b[39;49m\u001b[38;5;28;43;01mTrue\u001b[39;49;00m\u001b[43m,\u001b[49m\u001b[43m \u001b[49m\u001b[43mlinear\u001b[49m\u001b[38;5;241;43m=\u001b[39;49m\u001b[43mlinear\u001b[49m\u001b[43m,\u001b[49m\u001b[43m \u001b[49m\u001b[43mDEBUG\u001b[49m\u001b[38;5;241;43m=\u001b[39;49m\u001b[43mDEBUG\u001b[49m\u001b[43m)\u001b[49m\n",
      "File \u001b[0;32m~/rna/arnie/pfunc.py:70\u001b[0m, in \u001b[0;36mpfunc\u001b[0;34m(seq, package, T, constraint, motif, linear, dangles, noncanonical, pseudoknots, dna, DIRLOC, bpps, param_file, coaxial, reweight, return_free_energy, beam_size, DEBUG, threshknot, probing_signal, probing_kws)\u001b[0m\n\u001b[1;32m     68\u001b[0m \u001b[38;5;28;01mif\u001b[39;00m pkg\u001b[38;5;241m==\u001b[39m\u001b[38;5;124m'\u001b[39m\u001b[38;5;124mvienna\u001b[39m\u001b[38;5;124m'\u001b[39m:\n\u001b[1;32m     69\u001b[0m     \u001b[38;5;28;01mif\u001b[39;00m linear:\n\u001b[0;32m---> 70\u001b[0m         Z, tmp_file \u001b[38;5;241m=\u001b[39m \u001b[43mpfunc_linearpartition_\u001b[49m\u001b[43m(\u001b[49m\u001b[43mseq\u001b[49m\u001b[43m,\u001b[49m\u001b[43m \u001b[49m\u001b[43mpackage\u001b[49m\u001b[38;5;241;43m=\u001b[39;49m\u001b[38;5;124;43m'\u001b[39;49m\u001b[38;5;124;43mvienna\u001b[39;49m\u001b[38;5;124;43m'\u001b[39;49m\u001b[43m,\u001b[49m\u001b[43mbpps\u001b[49m\u001b[38;5;241;43m=\u001b[39;49m\u001b[43mbpps\u001b[49m\u001b[43m,\u001b[49m\u001b[43m \u001b[49m\u001b[43mbeam_size\u001b[49m\u001b[38;5;241;43m=\u001b[39;49m\u001b[43mbeam_size\u001b[49m\u001b[43m,\u001b[49m\n\u001b[1;32m     71\u001b[0m \u001b[43m            \u001b[49m\u001b[43mreturn_free_energy\u001b[49m\u001b[38;5;241;43m=\u001b[39;49m\u001b[43mreturn_free_energy\u001b[49m\u001b[43m,\u001b[49m\u001b[43m \u001b[49m\u001b[43mDEBUG\u001b[49m\u001b[38;5;241;43m=\u001b[39;49m\u001b[43mDEBUG\u001b[49m\u001b[43m)\u001b[49m\n\u001b[1;32m     73\u001b[0m     \u001b[38;5;28;01melse\u001b[39;00m:\n\u001b[1;32m     74\u001b[0m         Z, tmp_file \u001b[38;5;241m=\u001b[39m pfunc_vienna_(seq, version\u001b[38;5;241m=\u001b[39mversion, T\u001b[38;5;241m=\u001b[39mT, dangles\u001b[38;5;241m=\u001b[39mdangles,\n\u001b[1;32m     75\u001b[0m          constraint\u001b[38;5;241m=\u001b[39mconstraint, motif\u001b[38;5;241m=\u001b[39mmotif, bpps\u001b[38;5;241m=\u001b[39mbpps, param_file\u001b[38;5;241m=\u001b[39mparam_file,\n\u001b[1;32m     76\u001b[0m          reweight\u001b[38;5;241m=\u001b[39mreweight, return_free_energy\u001b[38;5;241m=\u001b[39mreturn_free_energy, DEBUG\u001b[38;5;241m=\u001b[39mDEBUG, probing_signal\u001b[38;5;241m=\u001b[39mprobing_signal, probing_kws \u001b[38;5;241m=\u001b[39m probing_kws,)\n",
      "File \u001b[0;32m~/rna/arnie/pfunc.py:615\u001b[0m, in \u001b[0;36mpfunc_linearpartition_\u001b[0;34m(seq, bpps, package, beam_size, return_free_energy, DEBUG, threshknot)\u001b[0m\n\u001b[1;32m    612\u001b[0m         \u001b[38;5;28;01mreturn\u001b[39;00m np\u001b[38;5;241m.\u001b[39mexp(logZ), \u001b[38;5;28;01mNone\u001b[39;00m\n\u001b[1;32m    614\u001b[0m \u001b[38;5;28;01melif\u001b[39;00m package\u001b[38;5;241m==\u001b[39m\u001b[38;5;124m'\u001b[39m\u001b[38;5;124mvienna\u001b[39m\u001b[38;5;124m'\u001b[39m:\n\u001b[0;32m--> 615\u001b[0m     free_energy \u001b[38;5;241m=\u001b[39m \u001b[38;5;28;43mfloat\u001b[39;49m\u001b[43m(\u001b[49m\u001b[43mstderr\u001b[49m\u001b[38;5;241;43m.\u001b[39;49m\u001b[43mdecode\u001b[49m\u001b[43m(\u001b[49m\u001b[38;5;124;43m'\u001b[39;49m\u001b[38;5;124;43mutf-8\u001b[39;49m\u001b[38;5;124;43m'\u001b[39;49m\u001b[43m)\u001b[49m\u001b[38;5;241;43m.\u001b[39;49m\u001b[43msplit\u001b[49m\u001b[43m(\u001b[49m\u001b[38;5;124;43m'\u001b[39;49m\u001b[38;5;124;43m \u001b[39;49m\u001b[38;5;124;43m'\u001b[39;49m\u001b[43m)\u001b[49m\u001b[43m[\u001b[49m\u001b[38;5;241;43m-\u001b[39;49m\u001b[38;5;241;43m2\u001b[39;49m\u001b[43m]\u001b[49m\u001b[43m)\u001b[49m\n\u001b[1;32m    616\u001b[0m     T\u001b[38;5;241m=\u001b[39m\u001b[38;5;241m37\u001b[39m\n\u001b[1;32m    617\u001b[0m     \u001b[38;5;66;03m#os.remove('_') # tmp file written by linearpartition forest\u001b[39;00m\n",
      "\u001b[0;31mValueError\u001b[0m: could not convert string to float: 'Coefficient:'"
     ]
    }
   ],
   "source": [
    "print('\\nLinearFold-V:')\n",
    "print(mfe(seq, linear=True))\n",
    "print(free_energy(seq, linear=True))"
   ]
  },
  {
   "cell_type": "code",
   "execution_count": null,
   "id": "1ce5ec37-de35-48fb-bc38-4e7a5881d4eb",
   "metadata": {},
   "outputs": [],
   "source": []
  },
  {
   "cell_type": "code",
   "execution_count": 5,
   "id": "9b28acb1-857a-4526-9fb9-6f4bee7cd063",
   "metadata": {},
   "outputs": [],
   "source": [
    "import os, re, sys\n",
    "import subprocess as sp\n",
    "import random, string\n",
    "import numpy as np\n",
    "from arnie.utils import *\n",
    "from arnie.pfunc import pfunc"
   ]
  },
  {
   "cell_type": "code",
   "execution_count": 8,
   "id": "61d80e12-a9b9-4e49-bec6-b97760973b41",
   "metadata": {},
   "outputs": [],
   "source": [
    "package_locs = load_package_locations()"
   ]
  },
  {
   "cell_type": "code",
   "execution_count": 9,
   "id": "e05ca968-daef-4287-95ea-0bee6b43f8fc",
   "metadata": {},
   "outputs": [],
   "source": [
    "seq = 'CGCUGUCUGUACUUGUAUCAGUACACUGACGAGUCCCUAAAGGACGAAACAGCG'\n",
    "pkg = 'vienna'\n",
    "bpps = False\n",
    "return_free_energy = False \n",
    "beam_size = 100\n",
    "DEBUG = False"
   ]
  },
  {
   "cell_type": "code",
   "execution_count": 27,
   "id": "bf14bdab-6211-4277-93e7-4153dc5dfa86",
   "metadata": {},
   "outputs": [],
   "source": [
    "LOC = package_locs['linearpartition']\n",
    "package='contrafold'\n",
    "threshknot = False\n",
    "tmp_file = filename()\n",
    "tmp_command = filename()\n",
    "pf_only = int(bpps)\n",
    "\n",
    "if threshknot:\n",
    "    TK = '-T'\n",
    "else:\n",
    "    TK = '_'\n",
    "    \n"
   ]
  },
  {
   "cell_type": "code",
   "execution_count": 28,
   "id": "5036ae9f-9878-4288-b663-8a27d4f0bb48",
   "metadata": {},
   "outputs": [],
   "source": [
    "command=['echo %s | %s/linearpartition_%s' % (seq, LOC, package[0].lower()), str(beam_size),\n",
    " '0', '0', tmp_file, \"''\", str(pf_only), '0.000001', \"''\", \"''\", \"''\",'%s' % (TK), \"''\", \"''\", \"''\", \"''\", \"''\"] # change the command to linearpartition instead of linearpartition_v or linearpartition_c"
   ]
  },
  {
   "cell_type": "code",
   "execution_count": 39,
   "id": "14d08da8-8c52-4e1d-b3cd-b3477635cb70",
   "metadata": {},
   "outputs": [],
   "source": [
    "\n",
    "def pfunc_linearpartition_(seq, bpps=False, package='contrafold', beam_size=100, return_free_energy=False, DEBUG=False, threshknot=False):\n",
    "    LOC = package_locs['linearpartition']\n",
    "    tmp_file = filename()\n",
    "    tmp_command = filename()\n",
    "\n",
    "    if bpps:\n",
    "        pf_only = 0\n",
    "    else:\n",
    "        pf_only = 1\n",
    "\n",
    "    if threshknot:\n",
    "        TK = '-T'\n",
    "    else:\n",
    "        TK = '_'\n",
    "\n",
    "        \n",
    "    if package == 'vienna':\n",
    "        vienna_flag = '-V'\n",
    "    else:\n",
    "        vienna_flag = ''    \n",
    "    # args: beamsize, is_sharpturn, is_verbose, bpp_file, bpp_prefix, pf_only, bpp_cutoff,\n",
    "    #forest_file, mea, gamma, TK, threshold, ThreshKnot_prefix, MEA_prefix, MEA_bpseq\n",
    "\n",
    "    # args: beamsize, is_sharpturn, is_verbose, bpp_file, bpp_prefix, pf_only, bpp_cutoff,\n",
    "    #forest_file, mea, gamma, TK, threshold, ThreshKnot_prefix, MEA_prefix, MEA_bpseq, shape_file_path\n",
    "\n",
    "    #threshknot threshold set to default 0.3\n",
    "    ##FIXED THE BUG\n",
    "    # command=['echo %s | %s/linearpartition_%s' % (seq, LOC, package[0].lower()), str(beam_size),\n",
    "    #  '0', '0', tmp_file, \"''\", str(pf_only), '0.000001', \"''\", \"''\", \"''\",'%s' % (TK), \"''\", \"''\", \"''\", \"''\", \"''\"]\n",
    "    command = ['echo %s | %s/linearpartition %s' % (seq, LOC, vienna_flag), str(beam_size),\n",
    "               '0', '0', tmp_file, \"''\", str(pf_only), '0.000001', \"''\", \"''\", \"''\", '%s' % (TK), \"''\", \"''\", \"''\", \"''\", \"''\"]\n",
    "\n",
    "\n",
    "    with open('%s.sh' % tmp_command,'w') as f:\n",
    "        f.write(' '.join(command))\n",
    "\n",
    "    if DEBUG: print(' '.join(command))\n",
    "\n",
    "    meta_command = ['chmod +x %s.sh; %s.sh' % (tmp_command, tmp_command)]\n",
    "    p = sp.Popen(meta_command, stdout=sp.PIPE, stderr=sp.PIPE,shell=True)\n",
    "\n",
    "    stdout, stderr = p.communicate(input=str.encode(seq))\n",
    "\n",
    "    if DEBUG:\n",
    "        print('stdout')\n",
    "        print(stdout)\n",
    "        print('stderr')\n",
    "        print(stderr)\n",
    "\n",
    "    if p.returncode:\n",
    "        raise Exception('LinearPartition failed: on %s\\n%s' % (seq, stderr))\n",
    "\n",
    "    os.remove(\"%s.sh\" % tmp_command)\n",
    "    # Note: the linearfold exec says this is free energy in kcal/mol.\n",
    "    # this is still just cfold log Z\n",
    "\n",
    "    # linearfold returns two different things depending on which package\n",
    "\n",
    "    if bpps:\n",
    "        return 0, tmp_file\n",
    "    else:\n",
    "\n",
    "        if package in ['contrafold','eternafold']:\n",
    "            logZ=float(stderr.decode('utf-8').split(' ')[-1])\n",
    "            #os.remove('_') # tmp file written by linearpartition forest\n",
    "            if return_free_energy:\n",
    "                return -1*logZ, None\n",
    "            else:\n",
    "                return np.exp(logZ), None\n",
    "\n",
    "        elif package=='vienna':\n",
    "            free_energy = float(stderr.decode('utf-8').split(' ')[-2])\n",
    "            T=37\n",
    "            #os.remove('_') # tmp file written by linearpartition forest\n",
    "            if return_free_energy:\n",
    "                return free_energy, None\n",
    "            else:\n",
    "                return np.exp(-1*free_energy/(.0019899*(273+T))), None"
   ]
  },
  {
   "cell_type": "code",
   "execution_count": 40,
   "id": "9bdfd7dd-c0a9-43bd-afca-013708cf2ac5",
   "metadata": {},
   "outputs": [],
   "source": [
    "Z, tmp_file = pfunc_linearpartition_(seq, package='contrafold', bpps=bpps, beam_size=beam_size,\n",
    "    return_free_energy=return_free_energy, DEBUG=DEBUG)"
   ]
  },
  {
   "cell_type": "code",
   "execution_count": 41,
   "id": "ab8c1d97-7a08-4c59-bb7f-e731deab736d",
   "metadata": {},
   "outputs": [
    {
     "data": {
      "text/plain": [
       "8.743318546631311e+02"
      ]
     },
     "execution_count": 41,
     "metadata": {},
     "output_type": "execute_result"
    }
   ],
   "source": [
    "Z"
   ]
  },
  {
   "cell_type": "code",
   "execution_count": 42,
   "id": "c58f84c7-661f-4358-a313-e1a504eda610",
   "metadata": {},
   "outputs": [],
   "source": [
    "tmp_file"
   ]
  },
  {
   "cell_type": "code",
   "execution_count": null,
   "id": "19915375-a398-495d-8567-483e8402ba90",
   "metadata": {},
   "outputs": [],
   "source": []
  }
 ],
 "metadata": {
  "kernelspec": {
   "display_name": "Python 3 (ipykernel)",
   "language": "python",
   "name": "python3"
  },
  "language_info": {
   "codemirror_mode": {
    "name": "ipython",
    "version": 3
   },
   "file_extension": ".py",
   "mimetype": "text/x-python",
   "name": "python",
   "nbconvert_exporter": "python",
   "pygments_lexer": "ipython3",
   "version": "3.9.12"
  }
 },
 "nbformat": 4,
 "nbformat_minor": 5
}
